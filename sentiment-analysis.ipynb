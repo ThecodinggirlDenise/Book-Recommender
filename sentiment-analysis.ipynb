{
 "cells": [
  {
   "cell_type": "code",
   "id": "initial_id",
   "metadata": {
    "collapsed": true,
    "ExecuteTime": {
     "end_time": "2025-04-28T21:50:56.639436Z",
     "start_time": "2025-04-28T21:50:56.581346Z"
    }
   },
   "source": [
    "import pandas as pd\n",
    "books = pd.read_csv('books_with_categories.csv')"
   ],
   "outputs": [],
   "execution_count": 6
  },
  {
   "metadata": {
    "ExecuteTime": {
     "end_time": "2025-04-28T21:51:59.708332Z",
     "start_time": "2025-04-28T21:51:59.106905Z"
    }
   },
   "cell_type": "code",
   "source": [
    "from transformers import pipeline\n",
    "\n",
    "classifier = pipeline(\n",
    "    \"text-classification\",\n",
    "    model=\"j-hartmann/emotion-english-distilroberta-base\",\n",
    "    top_k=None\n",
    ")\n",
    "\n",
    "classifier(\"I love this!\")\n",
    "\n",
    "\n"
   ],
   "id": "2c34d92036dfa6c4",
   "outputs": [
    {
     "name": "stderr",
     "output_type": "stream",
     "text": [
      "Device set to use cpu\n"
     ]
    },
    {
     "data": {
      "text/plain": [
       "[[{'label': 'joy', 'score': 0.9771687984466553},\n",
       "  {'label': 'surprise', 'score': 0.008528688922524452},\n",
       "  {'label': 'neutral', 'score': 0.005764589179307222},\n",
       "  {'label': 'anger', 'score': 0.004419790115207434},\n",
       "  {'label': 'sadness', 'score': 0.002092392183840275},\n",
       "  {'label': 'disgust', 'score': 0.001611991785466671},\n",
       "  {'label': 'fear', 'score': 0.0004138524236623198}]]"
      ]
     },
     "execution_count": 8,
     "metadata": {},
     "output_type": "execute_result"
    }
   ],
   "execution_count": 8
  },
  {
   "metadata": {
    "ExecuteTime": {
     "end_time": "2025-04-28T21:52:48.806827Z",
     "start_time": "2025-04-28T21:52:48.799217Z"
    }
   },
   "cell_type": "code",
   "source": "books[\"description\"][0]",
   "id": "871758f0ae5de32e",
   "outputs": [
    {
     "data": {
      "text/plain": [
       "'A NOVEL THAT READERS and critics have been eagerly anticipating for over a decade, Gilead is an astonishingly imagined story of remarkable lives. John Ames is a preacher, the son of a preacher and the grandson (both maternal and paternal) of preachers. It’s 1956 in Gilead, Iowa, towards the end of the Reverend Ames’s life, and he is absorbed in recording his family’s story, a legacy for the young son he will never see grow up. Haunted by his grandfather’s presence, John tells of the rift between his grandfather and his father: the elder, an angry visionary who fought for the abolitionist cause, and his son, an ardent pacifist. He is troubled, too, by his prodigal namesake, Jack (John Ames) Boughton, his best friend’s lost son who returns to Gilead searching for forgiveness and redemption. Told in John Ames’s joyous, rambling voice that finds beauty, humour and truth in the smallest of life’s details, Gilead is a song of celebration and acceptance of the best and the worst the world has to offer. At its heart is a tale of the sacred bonds between fathers and sons, pitch-perfect in style and story, set to dazzle critics and readers alike.'"
      ]
     },
     "execution_count": 9,
     "metadata": {},
     "output_type": "execute_result"
    }
   ],
   "execution_count": 9
  },
  {
   "metadata": {
    "ExecuteTime": {
     "end_time": "2025-04-29T09:40:31.850861Z",
     "start_time": "2025-04-29T09:40:31.556702Z"
    }
   },
   "cell_type": "code",
   "source": "classifier(books[\"description\"][0])",
   "id": "fc027fe76763f1d8",
   "outputs": [
    {
     "data": {
      "text/plain": [
       "[[{'label': 'fear', 'score': 0.6548399925231934},\n",
       "  {'label': 'neutral', 'score': 0.1698525995016098},\n",
       "  {'label': 'sadness', 'score': 0.11640939861536026},\n",
       "  {'label': 'surprise', 'score': 0.02070068009197712},\n",
       "  {'label': 'disgust', 'score': 0.019100721925497055},\n",
       "  {'label': 'joy', 'score': 0.015161462128162384},\n",
       "  {'label': 'anger', 'score': 0.003935154061764479}]]"
      ]
     },
     "execution_count": 10,
     "metadata": {},
     "output_type": "execute_result"
    }
   ],
   "execution_count": 10
  },
  {
   "metadata": {
    "ExecuteTime": {
     "end_time": "2025-04-29T09:47:06.238104Z",
     "start_time": "2025-04-29T09:47:05.743493Z"
    }
   },
   "cell_type": "code",
   "source": "classifier(books[\"description\"][0].split(\". \"))",
   "id": "4308d5f9025ea34a",
   "outputs": [
    {
     "data": {
      "text/plain": [
       "[[{'label': 'surprise', 'score': 0.729602038860321},\n",
       "  {'label': 'neutral', 'score': 0.14038598537445068},\n",
       "  {'label': 'fear', 'score': 0.06816231459379196},\n",
       "  {'label': 'joy', 'score': 0.0479426383972168},\n",
       "  {'label': 'anger', 'score': 0.009156374260783195},\n",
       "  {'label': 'disgust', 'score': 0.002628476358950138},\n",
       "  {'label': 'sadness', 'score': 0.002122163539752364}],\n",
       " [{'label': 'neutral', 'score': 0.46625006198883057},\n",
       "  {'label': 'disgust', 'score': 0.3382386565208435},\n",
       "  {'label': 'joy', 'score': 0.08201295137405396},\n",
       "  {'label': 'sadness', 'score': 0.061116933822631836},\n",
       "  {'label': 'anger', 'score': 0.029641350731253624},\n",
       "  {'label': 'surprise', 'score': 0.01796884834766388},\n",
       "  {'label': 'fear', 'score': 0.004771147854626179}],\n",
       " [{'label': 'neutral', 'score': 0.6978457570075989},\n",
       "  {'label': 'sadness', 'score': 0.20104296505451202},\n",
       "  {'label': 'disgust', 'score': 0.03659285977482796},\n",
       "  {'label': 'surprise', 'score': 0.02949785627424717},\n",
       "  {'label': 'joy', 'score': 0.01294274814426899},\n",
       "  {'label': 'fear', 'score': 0.012581017799675465},\n",
       "  {'label': 'anger', 'score': 0.009496775455772877}],\n",
       " [{'label': 'fear', 'score': 0.9839727878570557},\n",
       "  {'label': 'neutral', 'score': 0.00436397735029459},\n",
       "  {'label': 'sadness', 'score': 0.004239339847117662},\n",
       "  {'label': 'anger', 'score': 0.002706990810111165},\n",
       "  {'label': 'surprise', 'score': 0.002331699011847377},\n",
       "  {'label': 'disgust', 'score': 0.0017947608139365911},\n",
       "  {'label': 'joy', 'score': 0.0005904844147153199}],\n",
       " [{'label': 'sadness', 'score': 0.9560652375221252},\n",
       "  {'label': 'neutral', 'score': 0.021593919023871422},\n",
       "  {'label': 'disgust', 'score': 0.009161855094134808},\n",
       "  {'label': 'fear', 'score': 0.006611275020986795},\n",
       "  {'label': 'surprise', 'score': 0.002416066825389862},\n",
       "  {'label': 'anger', 'score': 0.0021669950801879168},\n",
       "  {'label': 'joy', 'score': 0.0019846938084810972}],\n",
       " [{'label': 'joy', 'score': 0.949027419090271},\n",
       "  {'label': 'disgust', 'score': 0.02581682987511158},\n",
       "  {'label': 'neutral', 'score': 0.01415310800075531},\n",
       "  {'label': 'sadness', 'score': 0.005034735891968012},\n",
       "  {'label': 'anger', 'score': 0.004015950486063957},\n",
       "  {'label': 'surprise', 'score': 0.0014610474463552237},\n",
       "  {'label': 'fear', 'score': 0.0004908537957817316}],\n",
       " [{'label': 'joy', 'score': 0.6122143268585205},\n",
       "  {'label': 'neutral', 'score': 0.3106999397277832},\n",
       "  {'label': 'surprise', 'score': 0.04584842920303345},\n",
       "  {'label': 'disgust', 'score': 0.014227116480469704},\n",
       "  {'label': 'sadness', 'score': 0.009234625846147537},\n",
       "  {'label': 'anger', 'score': 0.004417247138917446},\n",
       "  {'label': 'fear', 'score': 0.0033582106698304415}]]"
      ]
     },
     "execution_count": 11,
     "metadata": {},
     "output_type": "execute_result"
    }
   ],
   "execution_count": 11
  },
  {
   "metadata": {
    "ExecuteTime": {
     "end_time": "2025-04-29T09:48:09.698671Z",
     "start_time": "2025-04-29T09:48:09.276724Z"
    }
   },
   "cell_type": "code",
   "source": [
    "sentence=books[\"description\"][0].split(\". \")\n",
    "prediction = classifier(sentence)"
   ],
   "id": "ab2dbf11fec0bf8f",
   "outputs": [],
   "execution_count": 12
  },
  {
   "metadata": {
    "ExecuteTime": {
     "end_time": "2025-04-29T09:50:42.258188Z",
     "start_time": "2025-04-29T09:50:42.255099Z"
    }
   },
   "cell_type": "code",
   "source": "sentence[0]",
   "id": "17975ed79cde6576",
   "outputs": [
    {
     "data": {
      "text/plain": [
       "'A NOVEL THAT READERS and critics have been eagerly anticipating for over a decade, Gilead is an astonishingly imagined story of remarkable lives'"
      ]
     },
     "execution_count": 14,
     "metadata": {},
     "output_type": "execute_result"
    }
   ],
   "execution_count": 14
  },
  {
   "metadata": {
    "ExecuteTime": {
     "end_time": "2025-04-29T09:52:53.267428Z",
     "start_time": "2025-04-29T09:52:53.260042Z"
    }
   },
   "cell_type": "code",
   "source": "sentence[3]",
   "id": "656daaab4a4bd374",
   "outputs": [
    {
     "data": {
      "text/plain": [
       "'Haunted by his grandfather’s presence, John tells of the rift between his grandfather and his father: the elder, an angry visionary who fought for the abolitionist cause, and his son, an ardent pacifist'"
      ]
     },
     "execution_count": 15,
     "metadata": {},
     "output_type": "execute_result"
    }
   ],
   "execution_count": 15
  },
  {
   "metadata": {
    "ExecuteTime": {
     "end_time": "2025-04-29T09:58:48.492048Z",
     "start_time": "2025-04-29T09:58:48.486186Z"
    }
   },
   "cell_type": "code",
   "source": "prediction[4]",
   "id": "7be55add2af5be2f",
   "outputs": [
    {
     "data": {
      "text/plain": [
       "[{'label': 'sadness', 'score': 0.9560652375221252},\n",
       " {'label': 'neutral', 'score': 0.021593919023871422},\n",
       " {'label': 'disgust', 'score': 0.009161855094134808},\n",
       " {'label': 'fear', 'score': 0.006611275020986795},\n",
       " {'label': 'surprise', 'score': 0.002416066825389862},\n",
       " {'label': 'anger', 'score': 0.0021669950801879168},\n",
       " {'label': 'joy', 'score': 0.0019846938084810972}]"
      ]
     },
     "execution_count": 16,
     "metadata": {},
     "output_type": "execute_result"
    }
   ],
   "execution_count": 16
  },
  {
   "metadata": {
    "ExecuteTime": {
     "end_time": "2025-04-29T10:05:32.318463Z",
     "start_time": "2025-04-29T10:05:32.309577Z"
    }
   },
   "cell_type": "code",
   "source": "prediction",
   "id": "f9b85efa165dcc93",
   "outputs": [
    {
     "data": {
      "text/plain": [
       "[[{'label': 'surprise', 'score': 0.729602038860321},\n",
       "  {'label': 'neutral', 'score': 0.14038598537445068},\n",
       "  {'label': 'fear', 'score': 0.06816231459379196},\n",
       "  {'label': 'joy', 'score': 0.0479426383972168},\n",
       "  {'label': 'anger', 'score': 0.009156374260783195},\n",
       "  {'label': 'disgust', 'score': 0.002628476358950138},\n",
       "  {'label': 'sadness', 'score': 0.002122163539752364}],\n",
       " [{'label': 'neutral', 'score': 0.46625006198883057},\n",
       "  {'label': 'disgust', 'score': 0.3382386565208435},\n",
       "  {'label': 'joy', 'score': 0.08201295137405396},\n",
       "  {'label': 'sadness', 'score': 0.061116933822631836},\n",
       "  {'label': 'anger', 'score': 0.029641350731253624},\n",
       "  {'label': 'surprise', 'score': 0.01796884834766388},\n",
       "  {'label': 'fear', 'score': 0.004771147854626179}],\n",
       " [{'label': 'neutral', 'score': 0.6978457570075989},\n",
       "  {'label': 'sadness', 'score': 0.20104296505451202},\n",
       "  {'label': 'disgust', 'score': 0.03659285977482796},\n",
       "  {'label': 'surprise', 'score': 0.02949785627424717},\n",
       "  {'label': 'joy', 'score': 0.01294274814426899},\n",
       "  {'label': 'fear', 'score': 0.012581017799675465},\n",
       "  {'label': 'anger', 'score': 0.009496775455772877}],\n",
       " [{'label': 'fear', 'score': 0.9839727878570557},\n",
       "  {'label': 'neutral', 'score': 0.00436397735029459},\n",
       "  {'label': 'sadness', 'score': 0.004239339847117662},\n",
       "  {'label': 'anger', 'score': 0.002706990810111165},\n",
       "  {'label': 'surprise', 'score': 0.002331699011847377},\n",
       "  {'label': 'disgust', 'score': 0.0017947608139365911},\n",
       "  {'label': 'joy', 'score': 0.0005904844147153199}],\n",
       " [{'label': 'sadness', 'score': 0.9560652375221252},\n",
       "  {'label': 'neutral', 'score': 0.021593919023871422},\n",
       "  {'label': 'disgust', 'score': 0.009161855094134808},\n",
       "  {'label': 'fear', 'score': 0.006611275020986795},\n",
       "  {'label': 'surprise', 'score': 0.002416066825389862},\n",
       "  {'label': 'anger', 'score': 0.0021669950801879168},\n",
       "  {'label': 'joy', 'score': 0.0019846938084810972}],\n",
       " [{'label': 'joy', 'score': 0.949027419090271},\n",
       "  {'label': 'disgust', 'score': 0.02581682987511158},\n",
       "  {'label': 'neutral', 'score': 0.01415310800075531},\n",
       "  {'label': 'sadness', 'score': 0.005034735891968012},\n",
       "  {'label': 'anger', 'score': 0.004015950486063957},\n",
       "  {'label': 'surprise', 'score': 0.0014610474463552237},\n",
       "  {'label': 'fear', 'score': 0.0004908537957817316}],\n",
       " [{'label': 'joy', 'score': 0.6122143268585205},\n",
       "  {'label': 'neutral', 'score': 0.3106999397277832},\n",
       "  {'label': 'surprise', 'score': 0.04584842920303345},\n",
       "  {'label': 'disgust', 'score': 0.014227116480469704},\n",
       "  {'label': 'sadness', 'score': 0.009234625846147537},\n",
       "  {'label': 'anger', 'score': 0.004417247138917446},\n",
       "  {'label': 'fear', 'score': 0.0033582106698304415}]]"
      ]
     },
     "execution_count": 20,
     "metadata": {},
     "output_type": "execute_result"
    }
   ],
   "execution_count": 20
  },
  {
   "metadata": {
    "ExecuteTime": {
     "end_time": "2025-04-29T10:06:49.311824Z",
     "start_time": "2025-04-29T10:06:49.305102Z"
    }
   },
   "cell_type": "code",
   "source": "sorted(prediction[0],key=lambda x:x[\"label\"])",
   "id": "97889d6655c95b3e",
   "outputs": [
    {
     "data": {
      "text/plain": [
       "[{'label': 'anger', 'score': 0.009156374260783195},\n",
       " {'label': 'disgust', 'score': 0.002628476358950138},\n",
       " {'label': 'fear', 'score': 0.06816231459379196},\n",
       " {'label': 'joy', 'score': 0.0479426383972168},\n",
       " {'label': 'neutral', 'score': 0.14038598537445068},\n",
       " {'label': 'sadness', 'score': 0.002122163539752364},\n",
       " {'label': 'surprise', 'score': 0.729602038860321}]"
      ]
     },
     "execution_count": 21,
     "metadata": {},
     "output_type": "execute_result"
    }
   ],
   "execution_count": 21
  },
  {
   "metadata": {
    "ExecuteTime": {
     "end_time": "2025-04-29T10:32:14.843303Z",
     "start_time": "2025-04-29T10:32:14.837219Z"
    }
   },
   "cell_type": "code",
   "source": [
    "import numpy as np\n",
    "\n",
    "emotion_labels = [\"anger\", \"disgust\", \"fear\", \"joy\", \"sadness\", \"surprise\", \"neutral\"]\n",
    "isbn = []\n",
    "emotion_scores = {label: [] for label in emotion_labels}\n",
    "\n",
    "def calculate_max_emotion_scores(predictions):\n",
    "    per_emotion_scores = {label: [] for label in emotion_labels}\n",
    "    for prediction in predictions:\n",
    "        sorted_predictions = sorted(prediction, key=lambda x: x[\"label\"])\n",
    "        for index, label in enumerate(emotion_labels):\n",
    "            per_emotion_scores[label].append(sorted_predictions[index][\"score\"])\n",
    "    return {label: np.max(scores) for label, scores in per_emotion_scores.items()}\n"
   ],
   "id": "a218a4bc27c6d4d3",
   "outputs": [],
   "execution_count": 23
  },
  {
   "metadata": {
    "ExecuteTime": {
     "end_time": "2025-04-29T10:55:42.491367Z",
     "start_time": "2025-04-29T10:55:41.645042Z"
    }
   },
   "cell_type": "code",
   "source": [
    "# Check available columns\n",
    "print(books.columns)\n",
    "\n",
    "# Optional fallback key name\n",
    "isbn_key = 'isbn' if 'isbn' in books.columns else books.columns[0]  # fallback to first column\n",
    "\n",
    "for i in range(10):\n",
    "    isbn.append(books[isbn_key][i])\n",
    "    sentence = books[\"description\"][i].split(\". \")\n",
    "    prediction = classifier(sentence)\n",
    "    max_scores = calculate_max_emotion_scores(prediction)\n",
    "    for label in emotion_labels:\n",
    "        emotion_scores[label].append(max_scores[label])\n",
    "\n",
    "\n"
   ],
   "id": "66cf460a7d56fdb5",
   "outputs": [
    {
     "name": "stdout",
     "output_type": "stream",
     "text": [
      "Index(['isbn13', 'isbn10', 'title', 'authors', 'categories', 'thumbnail',\n",
      "       'description', 'published_year', 'average_rating', 'num_pages',\n",
      "       'ratings_count', 'books_missing', 'title_and_subtitle',\n",
      "       'tagged_description', 'simple_categories', 'predicted_category_x',\n",
      "       'predicted_category_y'],\n",
      "      dtype='object')\n"
     ]
    }
   ],
   "execution_count": 26
  },
  {
   "metadata": {
    "ExecuteTime": {
     "end_time": "2025-04-29T10:56:10.405228Z",
     "start_time": "2025-04-29T10:56:10.398248Z"
    }
   },
   "cell_type": "code",
   "source": "emotion_scores",
   "id": "37a91f3a43f932c1",
   "outputs": [
    {
     "data": {
      "text/plain": [
       "{'anger': [np.float64(0.029641350731253624),\n",
       "  np.float64(0.5944679975509644),\n",
       "  np.float64(0.04130084812641144),\n",
       "  np.float64(0.18917831778526306),\n",
       "  np.float64(0.05895031988620758),\n",
       "  np.float64(0.1873752474784851),\n",
       "  np.float64(0.5513834953308105),\n",
       "  np.float64(0.023656301200389862),\n",
       "  np.float64(0.3006698489189148),\n",
       "  np.float64(0.010040475986897945)],\n",
       " 'disgust': [np.float64(0.3382386565208435),\n",
       "  np.float64(0.46199068427085876),\n",
       "  np.float64(0.02456832304596901),\n",
       "  np.float64(0.23442506790161133),\n",
       "  np.float64(0.1763162463903427),\n",
       "  np.float64(0.8652116060256958),\n",
       "  np.float64(0.18220338225364685),\n",
       "  np.float64(0.11771662533283234),\n",
       "  np.float64(0.28747665882110596),\n",
       "  np.float64(0.10576913505792618)],\n",
       " 'fear': [np.float64(0.9839727878570557),\n",
       "  np.float64(0.9352148771286011),\n",
       "  np.float64(0.9708245992660522),\n",
       "  np.float64(0.40768370032310486),\n",
       "  np.float64(0.05609418824315071),\n",
       "  np.float64(0.03679516166448593),\n",
       "  np.float64(0.7151565551757812),\n",
       "  np.float64(0.404496967792511),\n",
       "  np.float64(0.8970006108283997),\n",
       "  np.float64(0.020425895228981972)],\n",
       " 'joy': [np.float64(0.949027419090271),\n",
       "  np.float64(0.7044221758842468),\n",
       "  np.float64(0.7672379016876221),\n",
       "  np.float64(0.24220958352088928),\n",
       "  np.float64(0.031064530834555626),\n",
       "  np.float64(0.04337584972381592),\n",
       "  np.float64(0.8725655674934387),\n",
       "  np.float64(0.013375191949307919),\n",
       "  np.float64(0.012979933992028236),\n",
       "  np.float64(0.029827089980244637)],\n",
       " 'sadness': [np.float64(0.6978457570075989),\n",
       "  np.float64(0.8911095857620239),\n",
       "  np.float64(0.04217579588294029),\n",
       "  np.float64(0.7326846718788147),\n",
       "  np.float64(0.8236393928527832),\n",
       "  np.float64(0.6213916540145874),\n",
       "  np.float64(0.7286502122879028),\n",
       "  np.float64(0.29216617345809937),\n",
       "  np.float64(0.9149841666221619),\n",
       "  np.float64(0.7924391031265259)],\n",
       " 'surprise': [np.float64(0.9560652375221252),\n",
       "  np.float64(0.05141342803835869),\n",
       "  np.float64(0.010859846137464046),\n",
       "  np.float64(0.0515713095664978),\n",
       "  np.float64(0.42585259675979614),\n",
       "  np.float64(0.1088319718837738),\n",
       "  np.float64(0.34886276721954346),\n",
       "  np.float64(0.6267088055610657),\n",
       "  np.float64(0.3096053898334503),\n",
       "  np.float64(0.010061371140182018)],\n",
       " 'neutral': [np.float64(0.729602038860321),\n",
       "  np.float64(0.21222181618213654),\n",
       "  np.float64(0.009796075522899628),\n",
       "  np.float64(0.029083851724863052),\n",
       "  np.float64(0.02249680645763874),\n",
       "  np.float64(0.2719036936759949),\n",
       "  np.float64(0.06177813932299614),\n",
       "  np.float64(0.2344868928194046),\n",
       "  np.float64(0.1825815588235855),\n",
       "  np.float64(0.03143691644072533)]}"
      ]
     },
     "execution_count": 27,
     "metadata": {},
     "output_type": "execute_result"
    }
   ],
   "execution_count": 27
  },
  {
   "metadata": {
    "ExecuteTime": {
     "end_time": "2025-04-29T11:18:38.721814Z",
     "start_time": "2025-04-29T11:12:28.101348Z"
    }
   },
   "cell_type": "code",
   "source": [
    "from tqdm import tqdm\n",
    "emotion_labels = [\"anger\", \"disgust\", \"fear\", \"joy\", \"sadness\", \"surprise\", \"neutral\"]\n",
    "isbn = []\n",
    "emotion_scores = {label: [] for label in emotion_labels}\n",
    "\n",
    "for i in tqdm(range(len(books))):\n",
    "    isbn.append(books[isbn_key][i])\n",
    "    sentence = books[\"description\"][i].split(\". \")\n",
    "    prediction = classifier(sentence)\n",
    "    max_scores = calculate_max_emotion_scores(prediction)\n",
    "    for label in emotion_labels:\n",
    "        emotion_scores[label].append(max_scores[label])\n",
    "\n",
    "\n"
   ],
   "id": "23ec51b2e75ccd62",
   "outputs": [
    {
     "name": "stderr",
     "output_type": "stream",
     "text": [
      "100%|██████████| 5197/5197 [06:10<00:00, 14.02it/s]\n"
     ]
    }
   ],
   "execution_count": 29
  },
  {
   "metadata": {
    "ExecuteTime": {
     "end_time": "2025-04-29T11:23:15.504176Z",
     "start_time": "2025-04-29T11:23:15.484517Z"
    }
   },
   "cell_type": "code",
   "source": [
    "emotion_df = pd.DataFrame(emotion_scores)\n",
    "emotion_df[\"isbn13\"]=isbn"
   ],
   "id": "c2ff77c9e97d44fc",
   "outputs": [],
   "execution_count": 30
  },
  {
   "metadata": {
    "ExecuteTime": {
     "end_time": "2025-04-29T11:23:49.605707Z",
     "start_time": "2025-04-29T11:23:49.588894Z"
    }
   },
   "cell_type": "code",
   "source": "emotion_df.head()",
   "id": "96e8703d40fd1671",
   "outputs": [
    {
     "data": {
      "text/plain": [
       "      anger   disgust      fear       joy   sadness  surprise   neutral  \\\n",
       "0  0.029641  0.338239  0.983973  0.949027  0.697846  0.956065  0.729602   \n",
       "1  0.594468  0.461991  0.935215  0.704422  0.891110  0.051413  0.212222   \n",
       "2  0.041301  0.024568  0.970825  0.767238  0.042176  0.010860  0.009796   \n",
       "3  0.189178  0.234425  0.407684  0.242210  0.732685  0.051571  0.029084   \n",
       "4  0.058950  0.176316  0.056094  0.031065  0.823639  0.425853  0.022497   \n",
       "\n",
       "          isbn13  \n",
       "0  9780002005883  \n",
       "1  9780002261982  \n",
       "2  9780006178736  \n",
       "3  9780006280897  \n",
       "4  9780006280934  "
      ],
      "text/html": [
       "<div>\n",
       "<style scoped>\n",
       "    .dataframe tbody tr th:only-of-type {\n",
       "        vertical-align: middle;\n",
       "    }\n",
       "\n",
       "    .dataframe tbody tr th {\n",
       "        vertical-align: top;\n",
       "    }\n",
       "\n",
       "    .dataframe thead th {\n",
       "        text-align: right;\n",
       "    }\n",
       "</style>\n",
       "<table border=\"1\" class=\"dataframe\">\n",
       "  <thead>\n",
       "    <tr style=\"text-align: right;\">\n",
       "      <th></th>\n",
       "      <th>anger</th>\n",
       "      <th>disgust</th>\n",
       "      <th>fear</th>\n",
       "      <th>joy</th>\n",
       "      <th>sadness</th>\n",
       "      <th>surprise</th>\n",
       "      <th>neutral</th>\n",
       "      <th>isbn13</th>\n",
       "    </tr>\n",
       "  </thead>\n",
       "  <tbody>\n",
       "    <tr>\n",
       "      <th>0</th>\n",
       "      <td>0.029641</td>\n",
       "      <td>0.338239</td>\n",
       "      <td>0.983973</td>\n",
       "      <td>0.949027</td>\n",
       "      <td>0.697846</td>\n",
       "      <td>0.956065</td>\n",
       "      <td>0.729602</td>\n",
       "      <td>9780002005883</td>\n",
       "    </tr>\n",
       "    <tr>\n",
       "      <th>1</th>\n",
       "      <td>0.594468</td>\n",
       "      <td>0.461991</td>\n",
       "      <td>0.935215</td>\n",
       "      <td>0.704422</td>\n",
       "      <td>0.891110</td>\n",
       "      <td>0.051413</td>\n",
       "      <td>0.212222</td>\n",
       "      <td>9780002261982</td>\n",
       "    </tr>\n",
       "    <tr>\n",
       "      <th>2</th>\n",
       "      <td>0.041301</td>\n",
       "      <td>0.024568</td>\n",
       "      <td>0.970825</td>\n",
       "      <td>0.767238</td>\n",
       "      <td>0.042176</td>\n",
       "      <td>0.010860</td>\n",
       "      <td>0.009796</td>\n",
       "      <td>9780006178736</td>\n",
       "    </tr>\n",
       "    <tr>\n",
       "      <th>3</th>\n",
       "      <td>0.189178</td>\n",
       "      <td>0.234425</td>\n",
       "      <td>0.407684</td>\n",
       "      <td>0.242210</td>\n",
       "      <td>0.732685</td>\n",
       "      <td>0.051571</td>\n",
       "      <td>0.029084</td>\n",
       "      <td>9780006280897</td>\n",
       "    </tr>\n",
       "    <tr>\n",
       "      <th>4</th>\n",
       "      <td>0.058950</td>\n",
       "      <td>0.176316</td>\n",
       "      <td>0.056094</td>\n",
       "      <td>0.031065</td>\n",
       "      <td>0.823639</td>\n",
       "      <td>0.425853</td>\n",
       "      <td>0.022497</td>\n",
       "      <td>9780006280934</td>\n",
       "    </tr>\n",
       "  </tbody>\n",
       "</table>\n",
       "</div>"
      ]
     },
     "execution_count": 31,
     "metadata": {},
     "output_type": "execute_result"
    }
   ],
   "execution_count": 31
  },
  {
   "metadata": {
    "ExecuteTime": {
     "end_time": "2025-04-29T11:45:39.985433Z",
     "start_time": "2025-04-29T11:45:39.941638Z"
    }
   },
   "cell_type": "code",
   "source": [
    "books=pd.merge(books,emotion_df,on=\"isbn13\")\n",
    "books"
   ],
   "id": "93524ae46ba6c506",
   "outputs": [
    {
     "data": {
      "text/plain": [
       "             isbn13      isbn10  \\\n",
       "0     9780002005883  0002005883   \n",
       "1     9780002261982  0002261987   \n",
       "2     9780006178736  0006178731   \n",
       "3     9780006280897  0006280897   \n",
       "4     9780006280934  0006280935   \n",
       "...             ...         ...   \n",
       "5192  9788172235222  8172235224   \n",
       "5193  9788173031014  8173031010   \n",
       "5194  9788179921623  817992162X   \n",
       "5195  9788185300535  8185300534   \n",
       "5196  9789027712059  9027712050   \n",
       "\n",
       "                                                  title  \\\n",
       "0                                                Gilead   \n",
       "1                                          Spider's Web   \n",
       "2                                        Rage of angels   \n",
       "3                                        The Four Loves   \n",
       "4                                   The Problem of Pain   \n",
       "...                                                 ...   \n",
       "5192                                  Mistaken Identity   \n",
       "5193                                Journey to the East   \n",
       "5194  The Monk Who Sold His Ferrari: A Fable About F...   \n",
       "5195                                          I Am that   \n",
       "5196                           The Berlin Phenomenology   \n",
       "\n",
       "                                           authors  \\\n",
       "0                               Marilynne Robinson   \n",
       "1                  Charles Osborne;Agatha Christie   \n",
       "2                                   Sidney Sheldon   \n",
       "3                              Clive Staples Lewis   \n",
       "4                              Clive Staples Lewis   \n",
       "...                                            ...   \n",
       "5192                              Nayantara Sahgal   \n",
       "5193                                 Hermann Hesse   \n",
       "5194                                  Robin Sharma   \n",
       "5195  Sri Nisargadatta Maharaj;Sudhakar S. Dikshit   \n",
       "5196                 Georg Wilhelm Friedrich Hegel   \n",
       "\n",
       "                         categories  \\\n",
       "0                           Fiction   \n",
       "1     Detective and mystery stories   \n",
       "2                           Fiction   \n",
       "3                    Christian life   \n",
       "4                    Christian life   \n",
       "...                             ...   \n",
       "5192        Indic fiction (English)   \n",
       "5193              Adventure stories   \n",
       "5194               Health & Fitness   \n",
       "5195                     Philosophy   \n",
       "5196                        History   \n",
       "\n",
       "                                              thumbnail  \\\n",
       "0     http://books.google.com/books/content?id=KQZCP...   \n",
       "1     http://books.google.com/books/content?id=gA5GP...   \n",
       "2     http://books.google.com/books/content?id=FKo2T...   \n",
       "3     http://books.google.com/books/content?id=XhQ5X...   \n",
       "4     http://books.google.com/books/content?id=Kk-uV...   \n",
       "...                                                 ...   \n",
       "5192  http://books.google.com/books/content?id=q-tKP...   \n",
       "5193  http://books.google.com/books/content?id=rq6JP...   \n",
       "5194  http://books.google.com/books/content?id=c_7mf...   \n",
       "5195  http://books.google.com/books/content?id=Fv_JP...   \n",
       "5196  http://books.google.com/books/content?id=Vy7Sk...   \n",
       "\n",
       "                                            description  published_year  \\\n",
       "0     A NOVEL THAT READERS and critics have been eag...          2004.0   \n",
       "1     A new 'Christie for Christmas' -- a full-lengt...          2000.0   \n",
       "2     A memorable, mesmerizing heroine Jennifer -- b...          1993.0   \n",
       "3     Lewis' work on the nature of love divides love...          2002.0   \n",
       "4     \"In The Problem of Pain, C.S. Lewis, one of th...          2002.0   \n",
       "...                                                 ...             ...   \n",
       "5192  On A Train Journey Home To North India After L...          2003.0   \n",
       "5193  This book tells the tale of a man who goes on ...          2002.0   \n",
       "5194  Wisdom to Create a Life of Passion, Purpose, a...          2003.0   \n",
       "5195  This collection of the timeless teachings of o...          1999.0   \n",
       "5196  Since the three volume edition ofHegel's Philo...          1981.0   \n",
       "\n",
       "      average_rating  num_pages  ...  simple_categories  predicted_category_x  \\\n",
       "0               3.85      247.0  ...         Nonfiction                   NaN   \n",
       "1               3.83      241.0  ...         Nonfiction               Fiction   \n",
       "2               3.93      512.0  ...         Nonfiction                   NaN   \n",
       "3               4.15      170.0  ...         Nonfiction            Nonfiction   \n",
       "4               4.09      176.0  ...         Nonfiction            Nonfiction   \n",
       "...              ...        ...  ...                ...                   ...   \n",
       "5192            2.93      324.0  ...         Nonfiction               Fiction   \n",
       "5193            3.70      175.0  ...         Nonfiction            Nonfiction   \n",
       "5194            3.82      198.0  ...         Nonfiction               Fiction   \n",
       "5195            4.51      531.0  ...         Nonfiction                   NaN   \n",
       "5196            0.00      210.0  ...         Nonfiction                   NaN   \n",
       "\n",
       "     predicted_category_y     anger   disgust      fear       joy   sadness  \\\n",
       "0                     NaN  0.029641  0.338239  0.983973  0.949027  0.697846   \n",
       "1                 Fiction  0.594468  0.461991  0.935215  0.704422  0.891110   \n",
       "2                     NaN  0.041301  0.024568  0.970825  0.767238  0.042176   \n",
       "3              Nonfiction  0.189178  0.234425  0.407684  0.242210  0.732685   \n",
       "4              Nonfiction  0.058950  0.176316  0.056094  0.031065  0.823639   \n",
       "...                   ...       ...       ...       ...       ...       ...   \n",
       "5192              Fiction  0.204143  0.053939  0.923713  0.303278  0.807057   \n",
       "5193           Nonfiction  0.042661  0.162955  0.019944  0.400263  0.891073   \n",
       "5194              Fiction  0.011246  0.010868  0.314811  0.942169  0.344736   \n",
       "5195                  NaN  0.034505  0.080506  0.409871  0.776053  0.950763   \n",
       "5196                  NaN  0.017204  0.062639  0.024447  0.958549  0.920466   \n",
       "\n",
       "      surprise   neutral  \n",
       "0     0.956065  0.729602  \n",
       "1     0.051413  0.212222  \n",
       "2     0.010860  0.009796  \n",
       "3     0.051571  0.029084  \n",
       "4     0.425853  0.022497  \n",
       "...        ...       ...  \n",
       "5192  0.974265  0.028640  \n",
       "5193  0.014484  0.227765  \n",
       "5194  0.060437  0.056820  \n",
       "5195  0.317455  0.047061  \n",
       "5196  0.017871  0.027651  \n",
       "\n",
       "[5197 rows x 24 columns]"
      ],
      "text/html": [
       "<div>\n",
       "<style scoped>\n",
       "    .dataframe tbody tr th:only-of-type {\n",
       "        vertical-align: middle;\n",
       "    }\n",
       "\n",
       "    .dataframe tbody tr th {\n",
       "        vertical-align: top;\n",
       "    }\n",
       "\n",
       "    .dataframe thead th {\n",
       "        text-align: right;\n",
       "    }\n",
       "</style>\n",
       "<table border=\"1\" class=\"dataframe\">\n",
       "  <thead>\n",
       "    <tr style=\"text-align: right;\">\n",
       "      <th></th>\n",
       "      <th>isbn13</th>\n",
       "      <th>isbn10</th>\n",
       "      <th>title</th>\n",
       "      <th>authors</th>\n",
       "      <th>categories</th>\n",
       "      <th>thumbnail</th>\n",
       "      <th>description</th>\n",
       "      <th>published_year</th>\n",
       "      <th>average_rating</th>\n",
       "      <th>num_pages</th>\n",
       "      <th>...</th>\n",
       "      <th>simple_categories</th>\n",
       "      <th>predicted_category_x</th>\n",
       "      <th>predicted_category_y</th>\n",
       "      <th>anger</th>\n",
       "      <th>disgust</th>\n",
       "      <th>fear</th>\n",
       "      <th>joy</th>\n",
       "      <th>sadness</th>\n",
       "      <th>surprise</th>\n",
       "      <th>neutral</th>\n",
       "    </tr>\n",
       "  </thead>\n",
       "  <tbody>\n",
       "    <tr>\n",
       "      <th>0</th>\n",
       "      <td>9780002005883</td>\n",
       "      <td>0002005883</td>\n",
       "      <td>Gilead</td>\n",
       "      <td>Marilynne Robinson</td>\n",
       "      <td>Fiction</td>\n",
       "      <td>http://books.google.com/books/content?id=KQZCP...</td>\n",
       "      <td>A NOVEL THAT READERS and critics have been eag...</td>\n",
       "      <td>2004.0</td>\n",
       "      <td>3.85</td>\n",
       "      <td>247.0</td>\n",
       "      <td>...</td>\n",
       "      <td>Nonfiction</td>\n",
       "      <td>NaN</td>\n",
       "      <td>NaN</td>\n",
       "      <td>0.029641</td>\n",
       "      <td>0.338239</td>\n",
       "      <td>0.983973</td>\n",
       "      <td>0.949027</td>\n",
       "      <td>0.697846</td>\n",
       "      <td>0.956065</td>\n",
       "      <td>0.729602</td>\n",
       "    </tr>\n",
       "    <tr>\n",
       "      <th>1</th>\n",
       "      <td>9780002261982</td>\n",
       "      <td>0002261987</td>\n",
       "      <td>Spider's Web</td>\n",
       "      <td>Charles Osborne;Agatha Christie</td>\n",
       "      <td>Detective and mystery stories</td>\n",
       "      <td>http://books.google.com/books/content?id=gA5GP...</td>\n",
       "      <td>A new 'Christie for Christmas' -- a full-lengt...</td>\n",
       "      <td>2000.0</td>\n",
       "      <td>3.83</td>\n",
       "      <td>241.0</td>\n",
       "      <td>...</td>\n",
       "      <td>Nonfiction</td>\n",
       "      <td>Fiction</td>\n",
       "      <td>Fiction</td>\n",
       "      <td>0.594468</td>\n",
       "      <td>0.461991</td>\n",
       "      <td>0.935215</td>\n",
       "      <td>0.704422</td>\n",
       "      <td>0.891110</td>\n",
       "      <td>0.051413</td>\n",
       "      <td>0.212222</td>\n",
       "    </tr>\n",
       "    <tr>\n",
       "      <th>2</th>\n",
       "      <td>9780006178736</td>\n",
       "      <td>0006178731</td>\n",
       "      <td>Rage of angels</td>\n",
       "      <td>Sidney Sheldon</td>\n",
       "      <td>Fiction</td>\n",
       "      <td>http://books.google.com/books/content?id=FKo2T...</td>\n",
       "      <td>A memorable, mesmerizing heroine Jennifer -- b...</td>\n",
       "      <td>1993.0</td>\n",
       "      <td>3.93</td>\n",
       "      <td>512.0</td>\n",
       "      <td>...</td>\n",
       "      <td>Nonfiction</td>\n",
       "      <td>NaN</td>\n",
       "      <td>NaN</td>\n",
       "      <td>0.041301</td>\n",
       "      <td>0.024568</td>\n",
       "      <td>0.970825</td>\n",
       "      <td>0.767238</td>\n",
       "      <td>0.042176</td>\n",
       "      <td>0.010860</td>\n",
       "      <td>0.009796</td>\n",
       "    </tr>\n",
       "    <tr>\n",
       "      <th>3</th>\n",
       "      <td>9780006280897</td>\n",
       "      <td>0006280897</td>\n",
       "      <td>The Four Loves</td>\n",
       "      <td>Clive Staples Lewis</td>\n",
       "      <td>Christian life</td>\n",
       "      <td>http://books.google.com/books/content?id=XhQ5X...</td>\n",
       "      <td>Lewis' work on the nature of love divides love...</td>\n",
       "      <td>2002.0</td>\n",
       "      <td>4.15</td>\n",
       "      <td>170.0</td>\n",
       "      <td>...</td>\n",
       "      <td>Nonfiction</td>\n",
       "      <td>Nonfiction</td>\n",
       "      <td>Nonfiction</td>\n",
       "      <td>0.189178</td>\n",
       "      <td>0.234425</td>\n",
       "      <td>0.407684</td>\n",
       "      <td>0.242210</td>\n",
       "      <td>0.732685</td>\n",
       "      <td>0.051571</td>\n",
       "      <td>0.029084</td>\n",
       "    </tr>\n",
       "    <tr>\n",
       "      <th>4</th>\n",
       "      <td>9780006280934</td>\n",
       "      <td>0006280935</td>\n",
       "      <td>The Problem of Pain</td>\n",
       "      <td>Clive Staples Lewis</td>\n",
       "      <td>Christian life</td>\n",
       "      <td>http://books.google.com/books/content?id=Kk-uV...</td>\n",
       "      <td>\"In The Problem of Pain, C.S. Lewis, one of th...</td>\n",
       "      <td>2002.0</td>\n",
       "      <td>4.09</td>\n",
       "      <td>176.0</td>\n",
       "      <td>...</td>\n",
       "      <td>Nonfiction</td>\n",
       "      <td>Nonfiction</td>\n",
       "      <td>Nonfiction</td>\n",
       "      <td>0.058950</td>\n",
       "      <td>0.176316</td>\n",
       "      <td>0.056094</td>\n",
       "      <td>0.031065</td>\n",
       "      <td>0.823639</td>\n",
       "      <td>0.425853</td>\n",
       "      <td>0.022497</td>\n",
       "    </tr>\n",
       "    <tr>\n",
       "      <th>...</th>\n",
       "      <td>...</td>\n",
       "      <td>...</td>\n",
       "      <td>...</td>\n",
       "      <td>...</td>\n",
       "      <td>...</td>\n",
       "      <td>...</td>\n",
       "      <td>...</td>\n",
       "      <td>...</td>\n",
       "      <td>...</td>\n",
       "      <td>...</td>\n",
       "      <td>...</td>\n",
       "      <td>...</td>\n",
       "      <td>...</td>\n",
       "      <td>...</td>\n",
       "      <td>...</td>\n",
       "      <td>...</td>\n",
       "      <td>...</td>\n",
       "      <td>...</td>\n",
       "      <td>...</td>\n",
       "      <td>...</td>\n",
       "      <td>...</td>\n",
       "    </tr>\n",
       "    <tr>\n",
       "      <th>5192</th>\n",
       "      <td>9788172235222</td>\n",
       "      <td>8172235224</td>\n",
       "      <td>Mistaken Identity</td>\n",
       "      <td>Nayantara Sahgal</td>\n",
       "      <td>Indic fiction (English)</td>\n",
       "      <td>http://books.google.com/books/content?id=q-tKP...</td>\n",
       "      <td>On A Train Journey Home To North India After L...</td>\n",
       "      <td>2003.0</td>\n",
       "      <td>2.93</td>\n",
       "      <td>324.0</td>\n",
       "      <td>...</td>\n",
       "      <td>Nonfiction</td>\n",
       "      <td>Fiction</td>\n",
       "      <td>Fiction</td>\n",
       "      <td>0.204143</td>\n",
       "      <td>0.053939</td>\n",
       "      <td>0.923713</td>\n",
       "      <td>0.303278</td>\n",
       "      <td>0.807057</td>\n",
       "      <td>0.974265</td>\n",
       "      <td>0.028640</td>\n",
       "    </tr>\n",
       "    <tr>\n",
       "      <th>5193</th>\n",
       "      <td>9788173031014</td>\n",
       "      <td>8173031010</td>\n",
       "      <td>Journey to the East</td>\n",
       "      <td>Hermann Hesse</td>\n",
       "      <td>Adventure stories</td>\n",
       "      <td>http://books.google.com/books/content?id=rq6JP...</td>\n",
       "      <td>This book tells the tale of a man who goes on ...</td>\n",
       "      <td>2002.0</td>\n",
       "      <td>3.70</td>\n",
       "      <td>175.0</td>\n",
       "      <td>...</td>\n",
       "      <td>Nonfiction</td>\n",
       "      <td>Nonfiction</td>\n",
       "      <td>Nonfiction</td>\n",
       "      <td>0.042661</td>\n",
       "      <td>0.162955</td>\n",
       "      <td>0.019944</td>\n",
       "      <td>0.400263</td>\n",
       "      <td>0.891073</td>\n",
       "      <td>0.014484</td>\n",
       "      <td>0.227765</td>\n",
       "    </tr>\n",
       "    <tr>\n",
       "      <th>5194</th>\n",
       "      <td>9788179921623</td>\n",
       "      <td>817992162X</td>\n",
       "      <td>The Monk Who Sold His Ferrari: A Fable About F...</td>\n",
       "      <td>Robin Sharma</td>\n",
       "      <td>Health &amp; Fitness</td>\n",
       "      <td>http://books.google.com/books/content?id=c_7mf...</td>\n",
       "      <td>Wisdom to Create a Life of Passion, Purpose, a...</td>\n",
       "      <td>2003.0</td>\n",
       "      <td>3.82</td>\n",
       "      <td>198.0</td>\n",
       "      <td>...</td>\n",
       "      <td>Nonfiction</td>\n",
       "      <td>Fiction</td>\n",
       "      <td>Fiction</td>\n",
       "      <td>0.011246</td>\n",
       "      <td>0.010868</td>\n",
       "      <td>0.314811</td>\n",
       "      <td>0.942169</td>\n",
       "      <td>0.344736</td>\n",
       "      <td>0.060437</td>\n",
       "      <td>0.056820</td>\n",
       "    </tr>\n",
       "    <tr>\n",
       "      <th>5195</th>\n",
       "      <td>9788185300535</td>\n",
       "      <td>8185300534</td>\n",
       "      <td>I Am that</td>\n",
       "      <td>Sri Nisargadatta Maharaj;Sudhakar S. Dikshit</td>\n",
       "      <td>Philosophy</td>\n",
       "      <td>http://books.google.com/books/content?id=Fv_JP...</td>\n",
       "      <td>This collection of the timeless teachings of o...</td>\n",
       "      <td>1999.0</td>\n",
       "      <td>4.51</td>\n",
       "      <td>531.0</td>\n",
       "      <td>...</td>\n",
       "      <td>Nonfiction</td>\n",
       "      <td>NaN</td>\n",
       "      <td>NaN</td>\n",
       "      <td>0.034505</td>\n",
       "      <td>0.080506</td>\n",
       "      <td>0.409871</td>\n",
       "      <td>0.776053</td>\n",
       "      <td>0.950763</td>\n",
       "      <td>0.317455</td>\n",
       "      <td>0.047061</td>\n",
       "    </tr>\n",
       "    <tr>\n",
       "      <th>5196</th>\n",
       "      <td>9789027712059</td>\n",
       "      <td>9027712050</td>\n",
       "      <td>The Berlin Phenomenology</td>\n",
       "      <td>Georg Wilhelm Friedrich Hegel</td>\n",
       "      <td>History</td>\n",
       "      <td>http://books.google.com/books/content?id=Vy7Sk...</td>\n",
       "      <td>Since the three volume edition ofHegel's Philo...</td>\n",
       "      <td>1981.0</td>\n",
       "      <td>0.00</td>\n",
       "      <td>210.0</td>\n",
       "      <td>...</td>\n",
       "      <td>Nonfiction</td>\n",
       "      <td>NaN</td>\n",
       "      <td>NaN</td>\n",
       "      <td>0.017204</td>\n",
       "      <td>0.062639</td>\n",
       "      <td>0.024447</td>\n",
       "      <td>0.958549</td>\n",
       "      <td>0.920466</td>\n",
       "      <td>0.017871</td>\n",
       "      <td>0.027651</td>\n",
       "    </tr>\n",
       "  </tbody>\n",
       "</table>\n",
       "<p>5197 rows × 24 columns</p>\n",
       "</div>"
      ]
     },
     "execution_count": 32,
     "metadata": {},
     "output_type": "execute_result"
    }
   ],
   "execution_count": 32
  },
  {
   "metadata": {
    "ExecuteTime": {
     "end_time": "2025-04-29T11:49:53.155583Z",
     "start_time": "2025-04-29T11:49:53.048077Z"
    }
   },
   "cell_type": "code",
   "source": "books.to_csv(\"books_with_emotions.csv\", index=False)\n",
   "id": "65a4ba38c8e876e0",
   "outputs": [],
   "execution_count": 33
  },
  {
   "metadata": {},
   "cell_type": "code",
   "outputs": [],
   "execution_count": null,
   "source": "",
   "id": "afedc4e53d8c98e"
  }
 ],
 "metadata": {
  "kernelspec": {
   "display_name": "Python 3",
   "language": "python",
   "name": "python3"
  },
  "language_info": {
   "codemirror_mode": {
    "name": "ipython",
    "version": 2
   },
   "file_extension": ".py",
   "mimetype": "text/x-python",
   "name": "python",
   "nbconvert_exporter": "python",
   "pygments_lexer": "ipython2",
   "version": "2.7.6"
  }
 },
 "nbformat": 4,
 "nbformat_minor": 5
}
